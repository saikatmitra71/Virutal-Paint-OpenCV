{
 "cells": [
  {
   "cell_type": "code",
   "execution_count": 1,
   "metadata": {},
   "outputs": [],
   "source": [
    "import cv2\n",
    "import numpy as np\n",
    "\n",
    "%matplotlib qt"
   ]
  },
  {
   "cell_type": "code",
   "execution_count": 2,
   "metadata": {},
   "outputs": [
    {
     "data": {
      "text/plain": [
       "True"
      ]
     },
     "execution_count": 2,
     "metadata": {},
     "output_type": "execute_result"
    }
   ],
   "source": [
    "frameWidth = 640\n",
    "frameHeight = 480\n",
    "cap = cv2.VideoCapture(0)\n",
    "cap.set(3, frameWidth)\n",
    "cap.set(4, frameHeight)"
   ]
  },
  {
   "cell_type": "code",
   "execution_count": 3,
   "metadata": {},
   "outputs": [],
   "source": [
    "def empty(a):\n",
    "    pass"
   ]
  },
  {
   "cell_type": "code",
   "execution_count": 4,
   "metadata": {},
   "outputs": [],
   "source": [
    "# cv2.namedWindow(\"HSV\")\n",
    "# cv2.resizeWindow(\"HSV\",640,240)\n",
    "# cv2.createTrackbar(\"HUE Min\",\"HSV\",0,179,empty)\n",
    "# cv2.createTrackbar(\"SAT Min\",\"HSV\",0,255,empty)\n",
    "# cv2.createTrackbar(\"VALUE Min\",\"HSV\",0,255,empty)\n",
    "# cv2.createTrackbar(\"HUE Max\",\"HSV\",179,179,empty)\n",
    "# cv2.createTrackbar(\"SAT Max\",\"HSV\",255,255,empty)\n",
    "# cv2.createTrackbar(\"VALUE Max\",\"HSV\",255,255,empty)\n",
    "\n",
    "# while True:\n",
    "\n",
    "#     _, img = cap.read()\n",
    "#     imgHsv = cv2.cvtColor(img, cv2.COLOR_BGR2HSV)\n",
    "\n",
    "#     h_min = cv2.getTrackbarPos(\"HUE Min\",\"HSV\")\n",
    "#     h_max = cv2.getTrackbarPos(\"HUE Max\", \"HSV\")\n",
    "#     s_min = cv2.getTrackbarPos(\"SAT Min\", \"HSV\")\n",
    "#     s_max = cv2.getTrackbarPos(\"SAT Max\", \"HSV\")\n",
    "#     v_min = cv2.getTrackbarPos(\"VALUE Min\", \"HSV\")\n",
    "#     v_max = cv2.getTrackbarPos(\"VALUE Max\", \"HSV\")\n",
    "#     print(h_min)\n",
    "\n",
    "#     lower = np.array([h_min,s_min,v_min])\n",
    "#     upper = np.array([h_max,s_max,v_max])\n",
    "#     mask = cv2.inRange(imgHsv,lower,upper)\n",
    "#     result = cv2.bitwise_and(img,img, mask = mask)\n",
    "\n",
    "#     mask = cv2.cvtColor(mask, cv2.COLOR_GRAY2BGR)\n",
    "#     hStack = np.hstack([img,mask,result])\n",
    "#     #cv2.imshow('Original', img)\n",
    "#     #cv2.imshow('HSV Color Space', imgHsv)\n",
    "#     #cv2.imshow('Mask', mask)\n",
    "#    #cv2.imshow('Result', result)\n",
    "#     cv2.imshow('Horizontal Stacking', hStack)\n",
    "#     if cv2.waitKey(1) & 0xFF == ord('q'):\n",
    "#         break\n",
    "\n",
    "# cap.release()\n",
    "# cv2.destroyAllWindows()"
   ]
  },
  {
   "cell_type": "code",
   "execution_count": 5,
   "metadata": {},
   "outputs": [],
   "source": [
    "myColors = [[85, 65, 204, 179, 255, 255]]\n",
    "myColorValues = [[255, 153, 51]]\n",
    "myPoints = []"
   ]
  },
  {
   "cell_type": "code",
   "execution_count": 6,
   "metadata": {},
   "outputs": [],
   "source": [
    "def findColor(img,myColors,myColorValues):\n",
    "    imgHSV = cv2.cvtColor(img, cv2.COLOR_BGR2HSV)\n",
    "    count = 0\n",
    "    newPoints=[]\n",
    "    for color in myColors:\n",
    "        lower = np.array(color[0:3])\n",
    "        upper = np.array(color[3:6])\n",
    "        mask = cv2.inRange(imgHSV,lower,upper)\n",
    "        x,y=getContours(mask)\n",
    "        cv2.circle(imgResult,(x,y),15,myColorValues[count],cv2.FILLED)\n",
    "        if x!=0 and y!=0:\n",
    "            newPoints.append([x,y,count])\n",
    "        count +=1\n",
    "        #cv2.imshow(str(color[0]),mask)\n",
    "    return newPoints"
   ]
  },
  {
   "cell_type": "code",
   "execution_count": 7,
   "metadata": {},
   "outputs": [],
   "source": [
    "def getContours(img):\n",
    "    contours,hierarchy = cv2.findContours(img,cv2.RETR_EXTERNAL,cv2.CHAIN_APPROX_NONE)\n",
    "    x,y,w,h = 0,0,0,0\n",
    "    for cnt in contours:\n",
    "        area = cv2.contourArea(cnt)\n",
    "        if area>500:\n",
    "            #cv2.drawContours(imgResult, cnt, -1, (255, 0, 0), 3)\n",
    "            peri = cv2.arcLength(cnt,True)\n",
    "            approx = cv2.approxPolyDP(cnt,0.02*peri,True)\n",
    "            x, y, w, h = cv2.boundingRect(approx)\n",
    "    return x+w//2,y"
   ]
  },
  {
   "cell_type": "code",
   "execution_count": 8,
   "metadata": {},
   "outputs": [],
   "source": [
    "def drawOnCanvas(myPoints,myColorValues):\n",
    "    for point in myPoints:\n",
    "        cv2.circle(imgResult, (point[0], point[1]), 10, myColorValues[point[2]], cv2.FILLED)"
   ]
  },
  {
   "cell_type": "code",
   "execution_count": 9,
   "metadata": {},
   "outputs": [],
   "source": [
    "while True:\n",
    "    success, img = cap.read()\n",
    "    imgResult = img.copy()\n",
    "    newPoints = findColor(img, myColors,myColorValues)\n",
    "    if len(newPoints)!=0:\n",
    "        for newP in newPoints:\n",
    "            myPoints.append(newP)\n",
    "    if len(myPoints)!=0:\n",
    "        drawOnCanvas(myPoints,myColorValues)\n",
    "    \n",
    "    imgResult = cv2.flip(imgResult, 1)\n",
    "    cv2.imshow(\"Result\", imgResult)\n",
    "    if cv2.waitKey(1) & 0xFF == ord('q'):\n",
    "        break"
   ]
  }
 ],
 "metadata": {
  "kernelspec": {
   "display_name": "Python 3",
   "language": "python",
   "name": "python3"
  },
  "language_info": {
   "codemirror_mode": {
    "name": "ipython",
    "version": 3
   },
   "file_extension": ".py",
   "mimetype": "text/x-python",
   "name": "python",
   "nbconvert_exporter": "python",
   "pygments_lexer": "ipython3",
   "version": "3.7.4"
  }
 },
 "nbformat": 4,
 "nbformat_minor": 2
}
